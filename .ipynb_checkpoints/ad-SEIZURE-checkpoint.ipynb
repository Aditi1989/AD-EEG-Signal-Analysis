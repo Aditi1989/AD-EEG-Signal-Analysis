{
 "cells": [
  {
   "cell_type": "code",
   "execution_count": 1,
   "id": "6453f8b6-44d5-434e-9af1-b0a55ceff902",
   "metadata": {},
   "outputs": [],
   "source": [
    "import numpy as np # linear algebra\n",
    "import pandas as pd # data processing, CSV file I/O (e.g. pd.read_csv)\n",
    "\n",
    "\n",
    "\n",
    "import os"
   ]
  },
  {
   "cell_type": "code",
   "execution_count": 3,
   "id": "f57f5d30-83d3-44f9-b958-155b668cc515",
   "metadata": {},
   "outputs": [
    {
     "name": "stdout",
     "output_type": "stream",
     "text": [
      "Requirement already satisfied: wfdb in c:\\users\\kiit\\anaconda3\\lib\\site-packages (4.1.2)\n",
      "Requirement already satisfied: SoundFile>=0.10.0 in c:\\users\\kiit\\anaconda3\\lib\\site-packages (from wfdb) (0.13.0)\n",
      "Requirement already satisfied: matplotlib>=3.2.2 in c:\\users\\kiit\\anaconda3\\lib\\site-packages (from wfdb) (3.8.0)\n",
      "Requirement already satisfied: numpy>=1.10.1 in c:\\users\\kiit\\anaconda3\\lib\\site-packages (from wfdb) (1.26.4)\n",
      "Requirement already satisfied: pandas>=1.3.0 in c:\\users\\kiit\\anaconda3\\lib\\site-packages (from wfdb) (2.1.4)\n",
      "Requirement already satisfied: requests>=2.8.1 in c:\\users\\kiit\\anaconda3\\lib\\site-packages (from wfdb) (2.32.3)\n",
      "Requirement already satisfied: scipy>=1.0.0 in c:\\users\\kiit\\anaconda3\\lib\\site-packages (from wfdb) (1.11.4)\n",
      "Requirement already satisfied: contourpy>=1.0.1 in c:\\users\\kiit\\anaconda3\\lib\\site-packages (from matplotlib>=3.2.2->wfdb) (1.2.0)\n",
      "Requirement already satisfied: cycler>=0.10 in c:\\users\\kiit\\anaconda3\\lib\\site-packages (from matplotlib>=3.2.2->wfdb) (0.11.0)\n",
      "Requirement already satisfied: fonttools>=4.22.0 in c:\\users\\kiit\\anaconda3\\lib\\site-packages (from matplotlib>=3.2.2->wfdb) (4.25.0)\n",
      "Requirement already satisfied: kiwisolver>=1.0.1 in c:\\users\\kiit\\anaconda3\\lib\\site-packages (from matplotlib>=3.2.2->wfdb) (1.4.4)\n",
      "Requirement already satisfied: packaging>=20.0 in c:\\users\\kiit\\anaconda3\\lib\\site-packages (from matplotlib>=3.2.2->wfdb) (23.2)\n",
      "Requirement already satisfied: pillow>=6.2.0 in c:\\users\\kiit\\anaconda3\\lib\\site-packages (from matplotlib>=3.2.2->wfdb) (10.2.0)\n",
      "Requirement already satisfied: pyparsing>=2.3.1 in c:\\users\\kiit\\anaconda3\\lib\\site-packages (from matplotlib>=3.2.2->wfdb) (3.0.9)\n",
      "Requirement already satisfied: python-dateutil>=2.7 in c:\\users\\kiit\\anaconda3\\lib\\site-packages (from matplotlib>=3.2.2->wfdb) (2.8.2)\n",
      "Requirement already satisfied: pytz>=2020.1 in c:\\users\\kiit\\anaconda3\\lib\\site-packages (from pandas>=1.3.0->wfdb) (2023.3.post1)\n",
      "Requirement already satisfied: tzdata>=2022.1 in c:\\users\\kiit\\anaconda3\\lib\\site-packages (from pandas>=1.3.0->wfdb) (2023.3)\n",
      "Requirement already satisfied: charset-normalizer<4,>=2 in c:\\users\\kiit\\anaconda3\\lib\\site-packages (from requests>=2.8.1->wfdb) (2.0.4)\n",
      "Requirement already satisfied: idna<4,>=2.5 in c:\\users\\kiit\\anaconda3\\lib\\site-packages (from requests>=2.8.1->wfdb) (3.4)\n",
      "Requirement already satisfied: urllib3<3,>=1.21.1 in c:\\users\\kiit\\anaconda3\\lib\\site-packages (from requests>=2.8.1->wfdb) (2.0.7)\n",
      "Requirement already satisfied: certifi>=2017.4.17 in c:\\users\\kiit\\anaconda3\\lib\\site-packages (from requests>=2.8.1->wfdb) (2024.12.14)\n",
      "Requirement already satisfied: cffi>=1.0 in c:\\users\\kiit\\anaconda3\\lib\\site-packages (from SoundFile>=0.10.0->wfdb) (1.16.0)\n",
      "Requirement already satisfied: pycparser in c:\\users\\kiit\\anaconda3\\lib\\site-packages (from cffi>=1.0->SoundFile>=0.10.0->wfdb) (2.21)\n",
      "Requirement already satisfied: six>=1.5 in c:\\users\\kiit\\anaconda3\\lib\\site-packages (from python-dateutil>=2.7->matplotlib>=3.2.2->wfdb) (1.16.0)\n",
      "Requirement already satisfied: mne in c:\\users\\kiit\\anaconda3\\lib\\site-packages (1.9.0)\n",
      "Requirement already satisfied: decorator in c:\\users\\kiit\\appdata\\roaming\\python\\python311\\site-packages (from mne) (5.1.1)\n",
      "Requirement already satisfied: jinja2 in c:\\users\\kiit\\anaconda3\\lib\\site-packages (from mne) (3.1.3)\n",
      "Requirement already satisfied: lazy-loader>=0.3 in c:\\users\\kiit\\anaconda3\\lib\\site-packages (from mne) (0.4)\n",
      "Requirement already satisfied: matplotlib>=3.6 in c:\\users\\kiit\\anaconda3\\lib\\site-packages (from mne) (3.8.0)\n",
      "Requirement already satisfied: numpy<3,>=1.23 in c:\\users\\kiit\\anaconda3\\lib\\site-packages (from mne) (1.26.4)\n",
      "Requirement already satisfied: packaging in c:\\users\\kiit\\anaconda3\\lib\\site-packages (from mne) (23.2)\n",
      "Requirement already satisfied: pooch>=1.5 in c:\\users\\kiit\\anaconda3\\lib\\site-packages (from mne) (1.8.2)\n",
      "Requirement already satisfied: scipy>=1.9 in c:\\users\\kiit\\anaconda3\\lib\\site-packages (from mne) (1.11.4)\n",
      "Requirement already satisfied: tqdm in c:\\users\\kiit\\anaconda3\\lib\\site-packages (from mne) (4.66.4)\n",
      "Requirement already satisfied: contourpy>=1.0.1 in c:\\users\\kiit\\anaconda3\\lib\\site-packages (from matplotlib>=3.6->mne) (1.2.0)\n",
      "Requirement already satisfied: cycler>=0.10 in c:\\users\\kiit\\anaconda3\\lib\\site-packages (from matplotlib>=3.6->mne) (0.11.0)\n",
      "Requirement already satisfied: fonttools>=4.22.0 in c:\\users\\kiit\\anaconda3\\lib\\site-packages (from matplotlib>=3.6->mne) (4.25.0)\n",
      "Requirement already satisfied: kiwisolver>=1.0.1 in c:\\users\\kiit\\anaconda3\\lib\\site-packages (from matplotlib>=3.6->mne) (1.4.4)\n",
      "Requirement already satisfied: pillow>=6.2.0 in c:\\users\\kiit\\anaconda3\\lib\\site-packages (from matplotlib>=3.6->mne) (10.2.0)\n",
      "Requirement already satisfied: pyparsing>=2.3.1 in c:\\users\\kiit\\anaconda3\\lib\\site-packages (from matplotlib>=3.6->mne) (3.0.9)\n",
      "Requirement already satisfied: python-dateutil>=2.7 in c:\\users\\kiit\\anaconda3\\lib\\site-packages (from matplotlib>=3.6->mne) (2.8.2)\n",
      "Requirement already satisfied: platformdirs>=2.5.0 in c:\\users\\kiit\\appdata\\roaming\\python\\python311\\site-packages (from pooch>=1.5->mne) (3.10.0)\n",
      "Requirement already satisfied: requests>=2.19.0 in c:\\users\\kiit\\anaconda3\\lib\\site-packages (from pooch>=1.5->mne) (2.32.3)\n",
      "Requirement already satisfied: MarkupSafe>=2.0 in c:\\users\\kiit\\anaconda3\\lib\\site-packages (from jinja2->mne) (2.1.3)\n",
      "Requirement already satisfied: colorama in c:\\users\\kiit\\appdata\\roaming\\python\\python311\\site-packages (from tqdm->mne) (0.4.6)\n",
      "Requirement already satisfied: six>=1.5 in c:\\users\\kiit\\anaconda3\\lib\\site-packages (from python-dateutil>=2.7->matplotlib>=3.6->mne) (1.16.0)\n",
      "Requirement already satisfied: charset-normalizer<4,>=2 in c:\\users\\kiit\\anaconda3\\lib\\site-packages (from requests>=2.19.0->pooch>=1.5->mne) (2.0.4)\n",
      "Requirement already satisfied: idna<4,>=2.5 in c:\\users\\kiit\\anaconda3\\lib\\site-packages (from requests>=2.19.0->pooch>=1.5->mne) (3.4)\n",
      "Requirement already satisfied: urllib3<3,>=1.21.1 in c:\\users\\kiit\\anaconda3\\lib\\site-packages (from requests>=2.19.0->pooch>=1.5->mne) (2.0.7)\n",
      "Requirement already satisfied: certifi>=2017.4.17 in c:\\users\\kiit\\anaconda3\\lib\\site-packages (from requests>=2.19.0->pooch>=1.5->mne) (2024.12.14)\n"
     ]
    }
   ],
   "source": [
    "!pip install wfdb\n",
    "!pip install mne"
   ]
  },
  {
   "cell_type": "code",
   "execution_count": 5,
   "id": "527fed6d-09d0-4eb2-aec1-55dc8602efe2",
   "metadata": {},
   "outputs": [],
   "source": [
    "#import numpy as np\n",
    "import matplotlib.pyplot as plt\n",
    "#import pyedflib\n",
    "import wfdb\n",
    "import glob\n",
    "import random\n",
    "import gc\n",
    "import mne\n",
    "from scipy.signal import find_peaks\n",
    "import re\n",
    "import tqdm\n",
    "import logging"
   ]
  },
  {
   "cell_type": "code",
   "execution_count": 7,
   "id": "db07d134-a313-450d-ac41-82e30e7bc04d",
   "metadata": {},
   "outputs": [],
   "source": [
    "ch_labels = ['FP1-F7', 'F7-T7', 'T7-P7', 'P7-O1', 'FP1-F3', 'F3-C3', 'C3-P3','P3-O1',\n",
    "             'FP2-F4', 'F4-C4', 'C4-P4', 'P4-O2', 'FP2-F8', 'F8-T8', 'T8-P8', 'P8-O2',\n",
    "             'FZ-CZ', 'CZ-PZ']"
   ]
  },
  {
   "cell_type": "code",
   "execution_count": 9,
   "id": "734b8040-6977-400a-88fa-fc7892221a6e",
   "metadata": {},
   "outputs": [
    {
     "name": "stdout",
     "output_type": "stream",
     "text": [
      "01 02 03 04 05 06 07 08 09 10 11 12 13 14 15 16 17 18 19 20 21 22 23 24\n"
     ]
    }
   ],
   "source": [
    "import glob\n",
    "import os\n",
    "\n",
    "# Correctly defining the path using raw string\n",
    "path2pt = r\"E:\\chb-mit-scalp-eeg-database-1.0.0\"\n",
    "\n",
    "# Use os.path.join to build the path and ensure correct separators\n",
    "folders = sorted(glob.glob(os.path.join(path2pt, '*/')))\n",
    "\n",
    "# Extract patient folder names\n",
    "n_patient = [os.path.basename(os.path.normpath(folder))[-2:] for folder in folders]\n",
    "\n",
    "# Print the patient numbers\n",
    "print(*n_patient)\n"
   ]
  },
  {
   "cell_type": "code",
   "execution_count": 11,
   "id": "2811534c-862f-48e6-a9a5-6aa78127c632",
   "metadata": {},
   "outputs": [
    {
     "name": "stdout",
     "output_type": "stream",
     "text": [
      "Train PT:  02 03 04 05 06 09 11 12 13 14 15 16 17 18 19 20 21 23 24\n",
      "Test PT:  01 07 08 10 22\n"
     ]
    }
   ],
   "source": [
    "random.seed(2023)\n",
    "\n",
    "ratio_train = 0.8\n",
    "train_patient_str = sorted(random.sample(n_patient, round(ratio_train*len(n_patient))))\n",
    "test_patient_str = sorted([l for l in n_patient if l not in train_patient_str])\n",
    "print('Train PT: ', *train_patient_str)\n",
    "print('Test PT: ', *test_patient_str)"
   ]
  },
  {
   "cell_type": "code",
   "execution_count": 15,
   "id": "b918ec0d-1d59-4257-9de4-1c0fc9e76484",
   "metadata": {},
   "outputs": [],
   "source": [
    "# file names for training and test data\n",
    "\n",
    "files_train = []\n",
    "for l in train_patient_str:\n",
    "    files_train = files_train + glob.glob(path2pt+'/chb{}/*.edf'.format(l))\n",
    "\n",
    "files_test = []\n",
    "for l in test_patient_str:\n",
    "    files_test = files_test + glob.glob(path2pt+'/chb{}/*.edf'.format(l))"
   ]
  },
  {
   "cell_type": "code",
   "execution_count": 17,
   "id": "7e4c62e9-1f3d-4594-ae75-0c4bc916279d",
   "metadata": {},
   "outputs": [
    {
     "data": {
      "text/plain": [
       "(549, 137)"
      ]
     },
     "execution_count": 17,
     "metadata": {},
     "output_type": "execute_result"
    }
   ],
   "source": [
    "len(files_train), len(files_test)"
   ]
  },
  {
   "cell_type": "code",
   "execution_count": 19,
   "id": "0e5114e4-4f79-46c5-92b2-5c01d445a43e",
   "metadata": {},
   "outputs": [],
   "source": [
    "mne.set_log_level(verbose='ERROR')\n"
   ]
  },
  {
   "cell_type": "code",
   "execution_count": 21,
   "id": "a052df13-15da-4834-9e6b-8bf5efa574ae",
   "metadata": {},
   "outputs": [
    {
     "name": "stdout",
     "output_type": "stream",
     "text": [
      "Filtered signals saved as processed_signal_samples_with_processed_used.npy and processed_is_sz_with_processed.npy.\n"
     ]
    }
   ],
   "source": [
    "import numpy as np\n",
    "import mne\n",
    "import logging\n",
    "import gc\n",
    "\n",
    "# Set up logger for filtering process\n",
    "logger = logging.getLogger(__name__)\n",
    "fh = logging.FileHandler('filtering_process.log')\n",
    "logger.addHandler(fh)\n",
    "\n",
    "# Load the processed EEG signal samples and seizure labels\n",
    "signals_file = r\"C:\\Users\\KIIT\\AD pROJECT eeg\\signal_samples.npy\"  # Corrected path\n",
    "labels_file = r\"C:\\Users\\KIIT\\AD pROJECT eeg\\is_sz.npy\"  # Corrected path\n",
    "\n",
    "# Load the signal data\n",
    "array_signals = np.load(signals_file)\n",
    "array_is_sz = np.load(labels_file)\n",
    "\n",
    "# Define the functions for DC removal, notch filter, and broadband filter\n",
    "def remove_dc_offset(data):\n",
    "    \"\"\"Removes DC offset (mean) from the EEG data.\"\"\"\n",
    "    return data - np.mean(data, axis=1, keepdims=True)\n",
    "\n",
    "def apply_notch_filter(data, fs, notch_freq=50):\n",
    "    \"\"\"Applies a notch filter to remove power line noise (50Hz by default).\"\"\"\n",
    "    # Ensure the data is float64 for compatibility with MNE functions\n",
    "    data = data.astype(np.float64)\n",
    "    return mne.filter.notch_filter(data, fs, freqs=[notch_freq])\n",
    "\n",
    "def apply_broadband_filter(data, fs, low_freq=0.5, high_freq=40.0):\n",
    "    \"\"\"Applies a bandpass filter to the EEG signal to keep the relevant frequencies.\"\"\"\n",
    "    # Ensure the data is float64 for compatibility with MNE functions\n",
    "    data = data.astype(np.float64)\n",
    "    return mne.filter.filter_data(data, fs, low_freq, high_freq)\n",
    "\n",
    "# Function to process and filter the signals\n",
    "def process_and_filter_signals(array_signals, array_is_sz, fs, ch_labels):\n",
    "    \"\"\"\n",
    "    Process and filter EEG signals by removing DC offset, applying notch filter,\n",
    "    and applying broadband filter.\n",
    "\n",
    "    :param array_signals: EEG signal data\n",
    "    :param array_is_sz: Seizure labels (0 or 1)\n",
    "    :param fs: Sampling frequency\n",
    "    :param ch_labels: Channel labels\n",
    "    :return: Processed signals and corresponding labels\n",
    "    \"\"\"\n",
    "    processed_signals = np.zeros_like(array_signals)  # Initialize array for filtered signals\n",
    "    \n",
    "    # Loop over each signal and apply the filters\n",
    "    for i, signal in enumerate(array_signals):\n",
    "        # Extract the signal window for each sample\n",
    "        signal_window = signal\n",
    "        \n",
    "        # 1. Remove DC offset\n",
    "        signal_window = remove_dc_offset(signal_window)\n",
    "        \n",
    "        # 2. Apply notch filter (50 Hz to remove power line noise)\n",
    "        signal_window = apply_notch_filter(signal_window, fs)\n",
    "        \n",
    "        # 3. Apply broadband filter (0.5 Hz - 40 Hz bandpass)\n",
    "        signal_window = apply_broadband_filter(signal_window, fs)\n",
    "        \n",
    "        # Store the processed signal\n",
    "        processed_signals[i] = signal_window\n",
    "\n",
    "        # Logging for progress\n",
    "        if i % 100 == 0:\n",
    "            logger.info(f\"Processed {i}/{len(array_signals)} signals.\")\n",
    "\n",
    "    return processed_signals\n",
    "\n",
    "# Sampling frequency (replace with the correct value)\n",
    "fs = 1000  # Example sampling frequency, you can adjust based on your data\n",
    "\n",
    "# Define channel labels (adjust according to your data)\n",
    "ch_labels = ['FP1-F7', 'F7-T7', 'T7-P7', 'P7-O1', 'FP1-F3', 'F3-C3', 'C3-P3', 'P3-O1',\n",
    "             'FP2-F4', 'F4-C4', 'C4-P4', 'P4-O2', 'FP2-F8', 'F8-T8', 'T8-P8', 'P8-O2',\n",
    "             'FZ-CZ', 'CZ-PZ']\n",
    "\n",
    "# Process and filter the signals\n",
    "processed_signals = process_and_filter_signals(array_signals, array_is_sz, fs, ch_labels)\n",
    "\n",
    "# Save the processed signals and labels to new files\n",
    "np.save(r\"F:\\signals processed\\processed_signal_samples_with_processed_used.npy\", processed_signals)\n",
    "np.save(r\"F:\\signals processed\\processed_is_sz_with_processed.npy\", array_is_sz)\n",
    "\n",
    "# Log final processing\n",
    "logger.info(f\"Filtered and saved {len(processed_signals)} signals.\")\n",
    "\n",
    "# Clear memory after processing\n",
    "gc.collect()\n",
    "\n",
    "# Print confirmation\n",
    "print(f\"Filtered signals saved as processed_signal_samples_with_processed_used.npy and processed_is_sz_with_processed.npy.\")\n"
   ]
  },
  {
   "cell_type": "code",
   "execution_count": 7,
   "id": "a8c5ab3a-a1e2-4a0b-9535-416e087d9221",
   "metadata": {},
   "outputs": [],
   "source": []
  },
  {
   "cell_type": "code",
   "execution_count": null,
   "id": "066d2318-ff5e-4e2c-9dc3-c2d12e50dfb3",
   "metadata": {},
   "outputs": [],
   "source": [
    "\n"
   ]
  },
  {
   "cell_type": "code",
   "execution_count": null,
   "id": "ebe615f0-70db-411e-a995-450f55d12fb0",
   "metadata": {},
   "outputs": [],
   "source": []
  },
  {
   "cell_type": "code",
   "execution_count": 39,
   "id": "a1300f92-0477-4751-adae-f72fd05abaef",
   "metadata": {},
   "outputs": [],
   "source": []
  },
  {
   "cell_type": "code",
   "execution_count": null,
   "id": "ea8b0901-66cb-46ad-b818-59a7e340c22e",
   "metadata": {},
   "outputs": [],
   "source": []
  },
  {
   "cell_type": "code",
   "execution_count": null,
   "id": "7ac8efdc-69b9-464c-8075-08576fd1e856",
   "metadata": {},
   "outputs": [],
   "source": []
  },
  {
   "cell_type": "code",
   "execution_count": null,
   "id": "b4f2a003-9637-4463-90ce-2d13f117373e",
   "metadata": {
    "scrolled": true
   },
   "outputs": [],
   "source": []
  },
  {
   "cell_type": "code",
   "execution_count": null,
   "id": "c37533db-d6f8-4c43-9bea-da21ce6de192",
   "metadata": {},
   "outputs": [],
   "source": []
  },
  {
   "cell_type": "code",
   "execution_count": 45,
   "id": "7fd45289-4b3d-4ab6-b838-8534374dde0e",
   "metadata": {},
   "outputs": [],
   "source": []
  },
  {
   "cell_type": "code",
   "execution_count": null,
   "id": "6f2e31dc-e0d5-4a5b-9608-0954bad3e91e",
   "metadata": {},
   "outputs": [],
   "source": []
  },
  {
   "cell_type": "code",
   "execution_count": 49,
   "id": "dd1a0ed8-eac5-46f5-a249-bd560da6f62c",
   "metadata": {},
   "outputs": [],
   "source": []
  },
  {
   "cell_type": "code",
   "execution_count": 51,
   "id": "8558e63f-ece2-47e2-ae65-28f7f19d0e4e",
   "metadata": {},
   "outputs": [],
   "source": []
  },
  {
   "cell_type": "code",
   "execution_count": null,
   "id": "63ddd90b-581a-44a9-8f95-fd6baac23481",
   "metadata": {},
   "outputs": [],
   "source": []
  },
  {
   "cell_type": "code",
   "execution_count": null,
   "id": "5a0b3577-8cc5-4751-a7d1-509976a3f16e",
   "metadata": {},
   "outputs": [],
   "source": []
  },
  {
   "cell_type": "code",
   "execution_count": null,
   "id": "b4cdb0e0-c939-4a3c-8df6-e86149d3fa98",
   "metadata": {},
   "outputs": [],
   "source": []
  },
  {
   "cell_type": "code",
   "execution_count": null,
   "id": "30c1ef28-30ac-46e0-8a41-f0109deb9ca6",
   "metadata": {},
   "outputs": [],
   "source": []
  },
  {
   "cell_type": "code",
   "execution_count": 65,
   "id": "c2148d8d-2296-4036-a645-b0407f9c05da",
   "metadata": {},
   "outputs": [],
   "source": []
  },
  {
   "cell_type": "code",
   "execution_count": 67,
   "id": "53bb4a9b-c769-4a6e-91c3-a236dbc2c8df",
   "metadata": {},
   "outputs": [],
   "source": []
  },
  {
   "cell_type": "code",
   "execution_count": null,
   "id": "b8224084-55a6-45e0-ae9f-66a43f13395d",
   "metadata": {},
   "outputs": [],
   "source": []
  },
  {
   "cell_type": "code",
   "execution_count": null,
   "id": "ee04f45c-ebfa-4701-ab21-ea340c9ba0cb",
   "metadata": {},
   "outputs": [],
   "source": []
  },
  {
   "cell_type": "code",
   "execution_count": null,
   "id": "81c5227a-fbba-4bd9-81fd-1b88b8d4815d",
   "metadata": {},
   "outputs": [],
   "source": []
  }
 ],
 "metadata": {
  "kernelspec": {
   "display_name": "Python 3 (ipykernel)",
   "language": "python",
   "name": "python3"
  },
  "language_info": {
   "codemirror_mode": {
    "name": "ipython",
    "version": 3
   },
   "file_extension": ".py",
   "mimetype": "text/x-python",
   "name": "python",
   "nbconvert_exporter": "python",
   "pygments_lexer": "ipython3",
   "version": "3.11.7"
  }
 },
 "nbformat": 4,
 "nbformat_minor": 5
}
